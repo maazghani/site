{
  "nbformat": 4,
  "nbformat_minor": 5,
  "metadata": {
    "selected_hardware_size": "small",
    "noteable": {
      "last_transaction_id": "c810650a-0283-4f78-9cd9-552452d8587b"
    }
  },
  "cells": [
    {
      "id": "bd9b2a16",
      "cell_type": "code",
      "metadata": {},
      "execution_count": null,
      "source": "",
      "outputs": []
    }
  ]
}