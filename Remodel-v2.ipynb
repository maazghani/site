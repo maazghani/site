{
  "nbformat": 4,
  "nbformat_minor": 5,
  "metadata": {
    "selected_hardware_size": "small",
    "noteable": {
      "last_transaction_id": "539dba24-bbf4-4054-a129-ff7c4df093b6"
    }
  },
  "cells": [
    {
      "id": "bd9b2a16",
      "cell_type": "code",
      "metadata": {},
      "execution_count": null,
      "source": "",
      "outputs": []
    },
    {
      "id": "0be4ec05-99f2-4342-ad56-2f972c0906fd",
      "cell_type": "code",
      "metadata": {
        "jupyter": {
          "outputs_hidden": false,
          "source_hidden": false
        },
        "noteable": {
          "cell_type": "code"
        }
      },
      "execution_count": null,
      "source": "%%html\n<!DOCTYPE html>\n<html>\n<head>\n<title>Maaz Ghani · Business Professional</title>\n</head>\n<body>\n<h1>BUSINESS PROFESSIONAL</h1>\n<h2>Maaz Ghani</h2>\n<h3>BUSINESS PROFESSIONAL</h3>\n<p>123 Main St.</p>\n<p>City, State, Country</p>\n<p>Mobile</p>\n<p>+1 123 456 7890</p>\n<p>Contact</p>\n<p>email@maazghani.com</p>\n</body>\n</html>",
      "outputs": []
    }
  ]
}